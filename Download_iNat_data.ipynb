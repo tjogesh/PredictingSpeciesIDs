{
 "cells": [
  {
   "cell_type": "code",
   "execution_count": 1,
   "metadata": {},
   "outputs": [
    {
     "ename": "NameError",
     "evalue": "name 'n_pages' is not defined",
     "output_type": "error",
     "traceback": [
      "\u001b[0;31m---------------------------------------------------------------------------\u001b[0m",
      "\u001b[0;31mNameError\u001b[0m                                 Traceback (most recent call last)",
      "\u001b[0;32m<ipython-input-1-c26970119666>\u001b[0m in \u001b[0;36m<module>\u001b[0;34m()\u001b[0m\n\u001b[1;32m      1\u001b[0m \u001b[0mallfiles\u001b[0m \u001b[0;34m=\u001b[0m\u001b[0;34m{\u001b[0m\u001b[0;34m}\u001b[0m\u001b[0;34m\u001b[0m\u001b[0m\n\u001b[1;32m      2\u001b[0m \u001b[0;31m#loop to get all pages (n) (API only allows a max of 100 enteries per page)\u001b[0m\u001b[0;34m\u001b[0m\u001b[0;34m\u001b[0m\u001b[0m\n\u001b[0;32m----> 3\u001b[0;31m \u001b[0;32mfor\u001b[0m \u001b[0mi\u001b[0m \u001b[0;32min\u001b[0m \u001b[0mxrange\u001b[0m\u001b[0;34m(\u001b[0m\u001b[0;36m0\u001b[0m\u001b[0;34m,\u001b[0m \u001b[0mn_pages\u001b[0m\u001b[0;34m)\u001b[0m\u001b[0;34m:\u001b[0m\u001b[0;34m\u001b[0m\u001b[0m\n\u001b[0m\u001b[1;32m      4\u001b[0m     \u001b[0;32mtry\u001b[0m\u001b[0;34m:\u001b[0m\u001b[0;34m\u001b[0m\u001b[0m\n\u001b[1;32m      5\u001b[0m         \u001b[0;32mprint\u001b[0m \u001b[0;34m\"Downloading Page {}\"\u001b[0m\u001b[0;34m.\u001b[0m\u001b[0mformat\u001b[0m\u001b[0;34m(\u001b[0m\u001b[0mi\u001b[0m\u001b[0;34m)\u001b[0m\u001b[0;34m\u001b[0m\u001b[0m\n",
      "\u001b[0;31mNameError\u001b[0m: name 'n_pages' is not defined"
     ]
    }
   ],
   "source": [
    "allfiles ={}    \n",
    "#loop to get all pages (n) (API only allows a max of 100 enteries per page)\n",
    "for i in xrange(start_pg, total_records, step):\n",
    "    try:\n",
    "        print \"Downloading Page {}\".format(i)\n",
    "        api ='http://api.inaturalist.org/v1/observations?page={}&per_page=1&quality_grade=any&identifications=any&captive=false&iconic_taxa%5B%5D=Protozoa&iconic_taxa%5B%5D=Chromista&iconic_taxa%5B%5D=Animalia&iconic_taxa%5B%5D=Mollusca&iconic_taxa%5B%5D=Mammalia&iconic_taxa%5B%5D=Amphibia&iconic_taxa%5B%5D=Actinopterygii&iconic_taxa%5B%5D=Aves&iconic_taxa%5B%5D=Reptilia&iconic_taxa%5B%5D=Arachnida&iconic_taxa%5B%5D=Insecta&iconic_taxa%5B%5D=Plantae&iconic_taxa%5B%5D=Fungi&place_id=97394&hrank=species&d1=1%2F1%2F2016&d2=1%2F1%2F2017'.format(i)\n",
    "        req = urllib2.Request(api)\n",
    "        response = urllib2.urlopen(req)\n",
    "        response_read = response.read()\n",
    "        json_data=json.loads(response_read)\n",
    "        with open(os.path.join('data/','iNat{}.json'.format(i)), 'w') as outfile:\n",
    "            json.dump(json_data, outfile)\n",
    "        allfiles[i] = json_data\n",
    "    except:\n",
    "        pass  "
   ]
  },
  {
   "cell_type": "code",
   "execution_count": null,
   "metadata": {},
   "outputs": [],
   "source": []
  }
 ],
 "metadata": {
  "kernelspec": {
   "display_name": "Python 2",
   "language": "python",
   "name": "python2"
  },
  "language_info": {
   "codemirror_mode": {
    "name": "ipython",
    "version": 2
   },
   "file_extension": ".py",
   "mimetype": "text/x-python",
   "name": "python",
   "nbconvert_exporter": "python",
   "pygments_lexer": "ipython2",
   "version": "2.7.13"
  }
 },
 "nbformat": 4,
 "nbformat_minor": 2
}

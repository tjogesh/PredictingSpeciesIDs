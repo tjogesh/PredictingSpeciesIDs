{
 "cells": [
  {
   "cell_type": "code",
   "execution_count": 1,
   "metadata": {},
   "outputs": [],
   "source": [
    "import urllib2\n",
    "import numpy as np\n",
    "import json\n",
    "import pandas as pd\n",
    "pd.set_option(\"display.max_columns\",999)\n",
    "from pandas.io.json import json_normalize\n",
    "import os\n",
    "import pickle"
   ]
  },
  {
   "cell_type": "code",
   "execution_count": 2,
   "metadata": {},
   "outputs": [
    {
     "name": "stdout",
     "output_type": "stream",
     "text": [
      "Downloading Page 0\n",
      "Downloading Page 1\n",
      "Downloading Page 2\n"
     ]
    }
   ],
   "source": [
    "#number per page = 30 \n",
    "total_records = 100\n",
    "per_page = 30\n",
    "n=int(total_records/per_page)\n",
    "alldata =[]    \n",
    "#loop to get all pages (n) (API only allows a max of 100 enteries per page)\n",
    "for i in xrange(0, n):\n",
    "    try:\n",
    "        print \"Downloading Page {}\".format(i)\n",
    "        api ='http://api.inaturalist.org/v1/observations?page={}&quality_grade=any&identifications=any&captive=false&iconic_taxa%5B%5D=Protozoa&iconic_taxa%5B%5D=Animalia&iconic_taxa%5B%5D=Mollusca&iconic_taxa%5B%5D=Actinopterygii&iconic_taxa%5B%5D=Amphibia&iconic_taxa%5B%5D=Aves&iconic_taxa%5B%5D=Mammalia&iconic_taxa%5B%5D=Reptilia&iconic_taxa%5B%5D=Arachnida&iconic_taxa%5B%5D=Insecta&iconic_taxa%5B%5D=Plantae&iconic_taxa%5B%5D=Fungi&iconic_taxa%5B%5D=Chromista&iconic_taxa%5B%5D=unknown&place_id=14'.format(i)\n",
    "        req = urllib2.Request(api)\n",
    "        response = urllib2.urlopen(req)\n",
    "        response_read = response.read()\n",
    "        json_data=json.loads(response_read)\n",
    "        df = json_normalize(json_data, 'results', meta = ['page','per_page','total_results'])\n",
    "        alldata.append(df)\n",
    "    except:\n",
    "        pass  \n",
    "        "
   ]
  },
  {
   "cell_type": "code",
   "execution_count": null,
   "metadata": {},
   "outputs": [],
   "source": [
    "#pickle.dump(alldata, open(\"inat_pickle.p\", \"wb\"))"
   ]
  },
  {
   "cell_type": "code",
   "execution_count": 3,
   "metadata": {},
   "outputs": [],
   "source": [
    "iNat_df = pd.concat(alldata)"
   ]
  },
  {
   "cell_type": "code",
   "execution_count": 4,
   "metadata": {},
   "outputs": [
    {
     "data": {
      "text/plain": [
       "(60, 68)"
      ]
     },
     "execution_count": 4,
     "metadata": {},
     "output_type": "execute_result"
    }
   ],
   "source": [
    "iNat_df.shape"
   ]
  },
  {
   "cell_type": "code",
   "execution_count": 12,
   "metadata": {},
   "outputs": [],
   "source": [
    "iNat_df.taxon.to_csv(\"test.csv\")"
   ]
  },
  {
   "cell_type": "code",
   "execution_count": null,
   "metadata": {},
   "outputs": [],
   "source": [
    "iNat_df."
   ]
  },
  {
   "cell_type": "code",
   "execution_count": null,
   "metadata": {},
   "outputs": [],
   "source": [
    "features_to_keep = ['cached_votes_total','captive','comments_count','community_taxon_id','created_at',\n",
    "                    'faves_count','geojson','id_please',\n",
    "                    'identifications_count','identifications_most_agree','identifications_most_disagree',\n",
    "                    'identifications_some_agree','location','mappable','obscured','observed_on',\n",
    "                    'observed_on_details','observed_on_string','owners_identification_from_vision','place_ids','taxon']\n",
    "#features_to_keep = ['cached_votes_total','captive']\n",
    "iNat_df_main = iNat_df[features_to_keep]"
   ]
  },
  {
   "cell_type": "code",
   "execution_count": null,
   "metadata": {},
   "outputs": [],
   "source": [
    "iNat_df_main.head()"
   ]
  },
  {
   "cell_type": "code",
   "execution_count": null,
   "metadata": {},
   "outputs": [],
   "source": [
    "iNat_df_main.info()"
   ]
  },
  {
   "cell_type": "code",
   "execution_count": null,
   "metadata": {},
   "outputs": [],
   "source": [
    "def flattenColumn(df, column):\n",
    "    flat_columns = df[column].apply(pd.Series)\n",
    "    flat_columns.columns = [column+'_'+str(flat_column_name) for flat_column_name in list(flat_columns.columns)]\n",
    "    new_df= df.drop(column, 1)\n",
    "    new_df= pd.concat([new_df,flat_columns], axis =1)\n",
    "    return new_df\n",
    "\n",
    "iNat_df_main = flattenColumn(iNat_df_main, 'taxon')\n",
    "#iNat_df_main = flattenColumn(iNat_df_main, 'place_ids')\n",
    "#iNat_df_main = flattenColumn(iNat_df_main, 'geojson')\n",
    "#iNat_df_main = flattenColumn(iNat_df_main, 'identifications')"
   ]
  },
  {
   "cell_type": "code",
   "execution_count": null,
   "metadata": {},
   "outputs": [],
   "source": [
    "#iNat_df_main = flattenColumn(iNat_df_main, 'taxon_establishment_means')"
   ]
  },
  {
   "cell_type": "code",
   "execution_count": null,
   "metadata": {},
   "outputs": [],
   "source": [
    "iNat_df_main = flattenColumn(iNat_df_main, 'geojson')"
   ]
  },
  {
   "cell_type": "code",
   "execution_count": null,
   "metadata": {},
   "outputs": [],
   "source": [
    "iNat_df_main = flattenColumn(iNat_df_main, 'observed_on_details')"
   ]
  },
  {
   "cell_type": "code",
   "execution_count": null,
   "metadata": {},
   "outputs": [],
   "source": [
    "iNat_df_main.created_at = pd.to_datetime(iNat_df_main.created_at,infer_datetime_format=True)"
   ]
  },
  {
   "cell_type": "code",
   "execution_count": null,
   "metadata": {},
   "outputs": [],
   "source": [
    "iNat_df_main.created_at.iloc[0]"
   ]
  },
  {
   "cell_type": "code",
   "execution_count": null,
   "metadata": {},
   "outputs": [],
   "source": [
    "iNat_df_main.location= iNat_df_main.location.apply(lambda x: str(x))"
   ]
  },
  {
   "cell_type": "code",
   "execution_count": null,
   "metadata": {},
   "outputs": [],
   "source": [
    "iNat_df_main.observed_on= iNat_df_main.observed_on.apply(lambda x: str(x))"
   ]
  },
  {
   "cell_type": "code",
   "execution_count": null,
   "metadata": {},
   "outputs": [],
   "source": [
    "iNat_df_main.observed_on_string = pd.to_datetime(iNat_df_main.observed_on_string,infer_datetime_format=True)"
   ]
  },
  {
   "cell_type": "code",
   "execution_count": null,
   "metadata": {},
   "outputs": [],
   "source": [
    "iNat_df_main.taxon_created_at = pd.to_datetime(iNat_df_main.taxon_created_at,infer_datetime_format=True)"
   ]
  },
  {
   "cell_type": "code",
   "execution_count": null,
   "metadata": {},
   "outputs": [],
   "source": [
    "cols_to_drop = ['taxon_default_photo','taxon_min_species_ancestry',\n",
    "                'taxon_native','taxon_preferred_establishment_means',\n",
    "                'taxon_establishment_means']"
   ]
  },
  {
   "cell_type": "code",
   "execution_count": null,
   "metadata": {},
   "outputs": [],
   "source": [
    "import findspark\n",
    "findspark.init()\n",
    "import pyspark\n",
    "sc = pyspark.SparkContext()"
   ]
  },
  {
   "cell_type": "code",
   "execution_count": null,
   "metadata": {},
   "outputs": [],
   "source": [
    "from pyspark.sql import SQLContext\n",
    "sqlsc=SQLContext(sc)"
   ]
  },
  {
   "cell_type": "code",
   "execution_count": null,
   "metadata": {},
   "outputs": [],
   "source": [
    "sparkdf = sqlsc.createDataFrame(iNat_df_main)"
   ]
  },
  {
   "cell_type": "code",
   "execution_count": null,
   "metadata": {},
   "outputs": [],
   "source": [
    "sparkdf.printSchema()"
   ]
  },
  {
   "cell_type": "code",
   "execution_count": null,
   "metadata": {},
   "outputs": [],
   "source": [
    "#sparkdf.groupby(data['species_guess']).max().show()\n",
    "sparkdf.registerTempTable(\"results\")\n"
   ]
  },
  {
   "cell_type": "code",
   "execution_count": null,
   "metadata": {},
   "outputs": [],
   "source": [
    "sqlsc.sql(\"select distinct quality_grade from results\").show()"
   ]
  },
  {
   "cell_type": "code",
   "execution_count": null,
   "metadata": {},
   "outputs": [],
   "source": []
  }
 ],
 "metadata": {
  "kernelspec": {
   "display_name": "Python 2",
   "language": "python",
   "name": "python2"
  },
  "language_info": {
   "codemirror_mode": {
    "name": "ipython",
    "version": 2
   },
   "file_extension": ".py",
   "mimetype": "text/x-python",
   "name": "python",
   "nbconvert_exporter": "python",
   "pygments_lexer": "ipython2",
   "version": "2.7.13"
  }
 },
 "nbformat": 4,
 "nbformat_minor": 2
}

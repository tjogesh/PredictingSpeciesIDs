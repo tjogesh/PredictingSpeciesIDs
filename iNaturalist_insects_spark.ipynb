{
 "cells": [
  {
   "cell_type": "code",
   "execution_count": 1,
   "metadata": {},
   "outputs": [],
   "source": [
    "import urllib2\n",
    "import numpy as np\n",
    "import json\n",
    "import pandas as pd\n",
    "pd.set_option(\"display.max_columns\",999)\n",
    "from pandas.io.json import json_normalize\n",
    "import os\n",
    "import pickle\n",
    "import matplotlib.pyplot as plt\n",
    "import seaborn as sns\n"
   ]
  },
  {
   "cell_type": "code",
   "execution_count": 2,
   "metadata": {},
   "outputs": [],
   "source": [
    "import plotly as py\n",
    "import plotly.graph_objs as go\n",
    "py.tools.set_credentials_file(username='tjogesh', api_key='jQCndI6d5M1oYF4mXX7i')"
   ]
  },
  {
   "cell_type": "code",
   "execution_count": 3,
   "metadata": {},
   "outputs": [],
   "source": [
    "import findspark\n",
    "findspark.init()\n",
    "import pyspark\n",
    "#pyspark.SparkContext.setSystemProperty('spark.executor.memory', '2g')\n",
    "sc = pyspark.SparkContext()"
   ]
  },
  {
   "cell_type": "code",
   "execution_count": 4,
   "metadata": {},
   "outputs": [],
   "source": [
    "from pyspark.sql import SQLContext\n",
    "sqlsc=SQLContext(sc)"
   ]
  },
  {
   "cell_type": "code",
   "execution_count": 8,
   "metadata": {},
   "outputs": [
    {
     "name": "stderr",
     "output_type": "stream",
     "text": [
      "/Users/taniajogesh/anaconda/lib/python2.7/site-packages/IPython/core/interactiveshell.py:2718: DtypeWarning:\n",
      "\n",
      "Columns (5) have mixed types. Specify dtype option on import or set low_memory=False.\n",
      "\n"
     ]
    }
   ],
   "source": [
    "#sparkdf = sqlsc.createDataFrame(iNat_df_main)\n",
    "df=pd.read_csv(\"insects_only.csv\")\n",
    "#data = sqlsc.read.load(\"insects_only.csv\")"
   ]
  },
  {
   "cell_type": "code",
   "execution_count": 9,
   "metadata": {},
   "outputs": [],
   "source": [
    "data= sqlsc.createDataFrame(df)"
   ]
  },
  {
   "cell_type": "code",
   "execution_count": 10,
   "metadata": {},
   "outputs": [
    {
     "name": "stdout",
     "output_type": "stream",
     "text": [
      "root\n",
      " |-- id: long (nullable = true)\n",
      " |-- observed_on_string: string (nullable = true)\n",
      " |-- observed_on: string (nullable = true)\n",
      " |-- time_observed_at: double (nullable = true)\n",
      " |-- time_zone: string (nullable = true)\n",
      " |-- out_of_range: double (nullable = true)\n",
      " |-- user_id: long (nullable = true)\n",
      " |-- user_login: string (nullable = true)\n",
      " |-- created_at: string (nullable = true)\n",
      " |-- updated_at: string (nullable = true)\n",
      " |-- quality_grade: string (nullable = true)\n",
      " |-- license: string (nullable = true)\n",
      " |-- url: string (nullable = true)\n",
      " |-- image_url: string (nullable = true)\n",
      " |-- tag_list: double (nullable = true)\n",
      " |-- description: double (nullable = true)\n",
      " |-- id_please: boolean (nullable = true)\n",
      " |-- num_identification_agreements: long (nullable = true)\n",
      " |-- num_identification_disagreements: long (nullable = true)\n",
      " |-- captive_cultivated: boolean (nullable = true)\n",
      " |-- oauth_application_id: double (nullable = true)\n",
      " |-- place_guess: string (nullable = true)\n",
      " |-- latitude: double (nullable = true)\n",
      " |-- longitude: double (nullable = true)\n",
      " |-- positional_accuracy: double (nullable = true)\n",
      " |-- geoprivacy: double (nullable = true)\n",
      " |-- coordinates_obscured: boolean (nullable = true)\n",
      " |-- positioning_method: double (nullable = true)\n",
      " |-- positioning_device: double (nullable = true)\n",
      " |-- species_guess: string (nullable = true)\n",
      " |-- scientific_name: string (nullable = true)\n",
      " |-- common_name: double (nullable = true)\n",
      " |-- iconic_taxon_name: string (nullable = true)\n",
      " |-- taxon_id: double (nullable = true)\n",
      "\n"
     ]
    }
   ],
   "source": [
    "data.printSchema()"
   ]
  },
  {
   "cell_type": "code",
   "execution_count": 11,
   "metadata": {},
   "outputs": [
    {
     "data": {
      "text/plain": [
       "150360"
      ]
     },
     "execution_count": 11,
     "metadata": {},
     "output_type": "execute_result"
    }
   ],
   "source": [
    "data.count()"
   ]
  },
  {
   "cell_type": "code",
   "execution_count": 12,
   "metadata": {},
   "outputs": [],
   "source": [
    "species= data.groupby('species_guess').count().toPandas() "
   ]
  },
  {
   "cell_type": "code",
   "execution_count": 13,
   "metadata": {},
   "outputs": [
    {
     "data": {
      "text/html": [
       "<div>\n",
       "<table border=\"1\" class=\"dataframe\">\n",
       "  <thead>\n",
       "    <tr style=\"text-align: right;\">\n",
       "      <th></th>\n",
       "      <th>species_guess</th>\n",
       "      <th>count</th>\n",
       "    </tr>\n",
       "  </thead>\n",
       "  <tbody>\n",
       "    <tr>\n",
       "      <th>0</th>\n",
       "      <td>Chapulines</td>\n",
       "      <td>107</td>\n",
       "    </tr>\n",
       "    <tr>\n",
       "      <th>1</th>\n",
       "      <td>Ammophila</td>\n",
       "      <td>110</td>\n",
       "    </tr>\n",
       "    <tr>\n",
       "      <th>2</th>\n",
       "      <td>Clytrini</td>\n",
       "      <td>18</td>\n",
       "    </tr>\n",
       "    <tr>\n",
       "      <th>3</th>\n",
       "      <td>blattodea</td>\n",
       "      <td>1</td>\n",
       "    </tr>\n",
       "    <tr>\n",
       "      <th>4</th>\n",
       "      <td>Brochymena (Rough Stink Bugs)</td>\n",
       "      <td>1</td>\n",
       "    </tr>\n",
       "  </tbody>\n",
       "</table>\n",
       "</div>"
      ],
      "text/plain": [
       "                   species_guess  count\n",
       "0                     Chapulines    107\n",
       "1                      Ammophila    110\n",
       "2                       Clytrini     18\n",
       "3                      blattodea      1\n",
       "4  Brochymena (Rough Stink Bugs)      1"
      ]
     },
     "execution_count": 13,
     "metadata": {},
     "output_type": "execute_result"
    }
   ],
   "source": [
    "species.head()"
   ]
  },
  {
   "cell_type": "code",
   "execution_count": 14,
   "metadata": {},
   "outputs": [
    {
     "data": {
      "image/png": "[encoded data removed]",
      "text/plain": [
       "<matplotlib.figure.Figure at 0x1263daf10>"
      ]
     },
     "metadata": {},
     "output_type": "display_data"
    }
   ],
   "source": [
    "species.set_index('species_guess').sort_values('count', ascending=False).head(10).plot(kind='barh', figsize=(8, 8))\n",
    "plt.title('Top 10 species observed on iNaturalist in the US', fontsize = 25)\n",
    "plt.xlabel('Number of observations', fontsize = 16)\n",
    "plt.ylabel(\"\")\n",
    "plt.show()"
   ]
  },
  {
   "cell_type": "code",
   "execution_count": 16,
   "metadata": {},
   "outputs": [
    {
     "name": "stdout",
     "output_type": "stream",
     "text": [
      "+-------------+------+\n",
      "|quality_grade| count|\n",
      "+-------------+------+\n",
      "|     needs_id|150360|\n",
      "+-------------+------+\n",
      "\n"
     ]
    }
   ],
   "source": [
    "data.groupby('quality_grade').count().show()"
   ]
  },
  {
   "cell_type": "code",
   "execution_count": 18,
   "metadata": {},
   "outputs": [
    {
     "name": "stdout",
     "output_type": "stream",
     "text": [
      "+-----------------------------+-----+\n",
      "|num_identification_agreements|count|\n",
      "+-----------------------------+-----+\n",
      "|                            0|79078|\n",
      "|                           -1|    1|\n",
      "|                            1|37367|\n",
      "|                            2|25311|\n",
      "|                            3| 7162|\n",
      "|                            4| 1032|\n",
      "|                            5|  286|\n",
      "|                            6|   89|\n",
      "|                            7|   17|\n",
      "|                            8|   11|\n",
      "|                            9|    3|\n",
      "|                           10|    1|\n",
      "|                           12|    2|\n",
      "+-----------------------------+-----+\n",
      "\n"
     ]
    }
   ],
   "source": [
    "data.groupby('num_identification_agreements').count().show()"
   ]
  },
  {
   "cell_type": "code",
   "execution_count": null,
   "metadata": {},
   "outputs": [],
   "source": []
  }
 ],
 "metadata": {
  "kernelspec": {
   "display_name": "Python 2",
   "language": "python",
   "name": "python2"
  },
  "language_info": {
   "codemirror_mode": {
    "name": "ipython",
    "version": 2
   },
   "file_extension": ".py",
   "mimetype": "text/x-python",
   "name": "python",
   "nbconvert_exporter": "python",
   "pygments_lexer": "ipython2",
   "version": "2.7.13"
  }
 },
 "nbformat": 4,
 "nbformat_minor": 2
}

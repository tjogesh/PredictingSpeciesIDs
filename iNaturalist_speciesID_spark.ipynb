{
 "cells": [
  {
   "cell_type": "code",
   "execution_count": 1,
   "metadata": {},
   "outputs": [],
   "source": [
    "import urllib2\n",
    "import numpy as np\n",
    "import json\n",
    "import pandas as pd\n",
    "pd.set_option(\"display.max_columns\",999)\n",
    "from pandas.io.json import json_normalize\n",
    "import os\n",
    "import pickle"
   ]
  },
  {
   "cell_type": "code",
   "execution_count": 2,
   "metadata": {},
   "outputs": [],
   "source": [
    "import findspark\n",
    "findspark.init()\n",
    "import pyspark\n",
    "sc = pyspark.SparkContext()"
   ]
  },
  {
   "cell_type": "code",
   "execution_count": 3,
   "metadata": {},
   "outputs": [],
   "source": [
    "from pyspark.sql import SQLContext\n",
    "sqlsc=SQLContext(sc)"
   ]
  },
  {
   "cell_type": "code",
   "execution_count": 82,
   "metadata": {},
   "outputs": [],
   "source": [
    "#number per page = 30 \n",
    "start_pg = 3333\n",
    "end_pg = 10000\n",
    "total_records = 100000\n",
    "per_page = 1\n",
    "n_pages=int(total_records/per_page)"
   ]
  },
  {
   "cell_type": "code",
   "execution_count": 98,
   "metadata": {},
   "outputs": [],
   "source": [
    "#%run 'Download_iNat_data.ipynb'"
   ]
  },
  {
   "cell_type": "code",
   "execution_count": 84,
   "metadata": {},
   "outputs": [],
   "source": [
    "#sparkdf = sqlsc.createDataFrame(iNat_df_main)\n",
    "data = sqlsc.read.json('data/*')"
   ]
  },
  {
   "cell_type": "code",
   "execution_count": 85,
   "metadata": {},
   "outputs": [
    {
     "data": {
      "text/plain": [
       "6197"
      ]
     },
     "execution_count": 85,
     "metadata": {},
     "output_type": "execute_result"
    }
   ],
   "source": [
    "data.count() "
   ]
  },
  {
   "cell_type": "code",
   "execution_count": 86,
   "metadata": {},
   "outputs": [],
   "source": [
    "from pyspark.sql import functions as F\n",
    "#joindf[\"show\"].cast(DoubleType())\n",
    "t = data.select(data[\"results.captive\"].getItem(0).alias('captive'), \n",
    "                data[\"results.cached_votes_total\"].getItem(0).alias('cached_votes_total'),\n",
    "                data['results.comments_count'].getItem(0).alias('comments_count'),\n",
    "                data['results.community_taxon_id'].getItem(0).alias('community_taxon_id'),\n",
    "                data['results.observed_on_details.day'].getItem(0).alias('observed_on_day'),\n",
    "                data['results.observed_on_details.hour'].getItem(0).alias('observed_on_hour'),\n",
    "                data['results.observed_on_details.month'].getItem(0).alias('observed_on_month'),\n",
    "                data['results.observed_on_details.week'].getItem(0).alias('observed_on_week'),\n",
    "                data['results.observed_on_details.year'].getItem(0).alias('observed_on_year'),\n",
    "                data['results.faves_count'].getItem(0).alias('faves_count'),\n",
    "                data['results.geojson.coordinates'].getItem(0).alias('coordinates'),\n",
    "                data['results.geojson.type'].getItem(0).alias('type'),\n",
    "                data['results.id'].getItem(0).alias('id'),\n",
    "                data['results.id_please'].getItem(0).alias('id_please'),\n",
    "                data['results.identifications_count'].getItem(0).alias('identifications_count'),\n",
    "                data['results.identifications_most_agree'].getItem(0).alias('identifications_most_agree'),\n",
    "                data['results.identifications_most_disagree'].getItem(0).alias('identifications_most_disagree'),\n",
    "                data['results.identifications_some_agree'].getItem(0).alias('identifications_some_agree'),\n",
    "                data['results.mappable'].getItem(0).alias('mappable'),\n",
    "                data['results.owners_identification_from_vision'].getItem(0).alias('owners_identification_from_vision'),\n",
    "                data['results.place_ids'].getItem(0).alias('place_ids'),\n",
    "                data['results.quality_grade'].getItem(0).alias('quality_grade'),\n",
    "                'results.species_guess',\n",
    "                data['results.taxon.ancestor_ids'],#.getItem(0).alias('ancestor_ids'),\n",
    "                data['results.taxon.complete_rank'],#.getItem(0).alias('complete_rank'),\n",
    "                'results.taxon.introduced',\n",
    "                data['results.taxon.extinct'].getItem(0).alias('extinct'),\n",
    "                data['results.taxon.iconic_taxon_name'],#.getItem(0).alias('iconic_taxon_name'),\n",
    "                data['results.taxon.min_species_ancestry'],#.getItem(0).alias('min_species_ancestry'),\n",
    "                data['results.taxon.observations_count'].getItem(0).alias('observations_count'),\n",
    "                data['results.taxon.rank'],#.getItem(0).alias('rank'),\n",
    "                data['results.taxon.extinct'].getItem(0).alias('extinct'),\n",
    "                data['results.taxon.threatened'].getItem(0).alias('threatened'),\n",
    "                data['results.user.activity_count'].getItem(0).alias('activity_count'),\n",
    "                data['results.user.identifications_count'].getItem(0).alias('identifications_count')\n",
    "                   )\n"
   ]
  },
  {
   "cell_type": "code",
   "execution_count": 87,
   "metadata": {},
   "outputs": [
    {
     "name": "stdout",
     "output_type": "stream",
     "text": [
      "root\n",
      " |-- captive: boolean (nullable = true)\n",
      " |-- cached_votes_total: long (nullable = true)\n",
      " |-- comments_count: long (nullable = true)\n",
      " |-- community_taxon_id: long (nullable = true)\n",
      " |-- observed_on_day: long (nullable = true)\n",
      " |-- observed_on_hour: long (nullable = true)\n",
      " |-- observed_on_month: long (nullable = true)\n",
      " |-- observed_on_week: long (nullable = true)\n",
      " |-- observed_on_year: long (nullable = true)\n",
      " |-- faves_count: long (nullable = true)\n",
      " |-- coordinates: array (nullable = true)\n",
      " |    |-- element: string (containsNull = true)\n",
      " |-- type: string (nullable = true)\n",
      " |-- id: long (nullable = true)\n",
      " |-- id_please: boolean (nullable = true)\n",
      " |-- identifications_count: long (nullable = true)\n",
      " |-- identifications_most_agree: boolean (nullable = true)\n",
      " |-- identifications_most_disagree: boolean (nullable = true)\n",
      " |-- identifications_some_agree: boolean (nullable = true)\n",
      " |-- mappable: boolean (nullable = true)\n",
      " |-- owners_identification_from_vision: boolean (nullable = true)\n",
      " |-- place_ids: array (nullable = true)\n",
      " |    |-- element: long (containsNull = true)\n",
      " |-- quality_grade: string (nullable = true)\n",
      " |-- species_guess: array (nullable = true)\n",
      " |    |-- element: string (containsNull = true)\n",
      " |-- ancestor_ids: array (nullable = true)\n",
      " |    |-- element: array (containsNull = true)\n",
      " |    |    |-- element: long (containsNull = true)\n",
      " |-- complete_rank: array (nullable = true)\n",
      " |    |-- element: string (containsNull = true)\n",
      " |-- introduced: array (nullable = true)\n",
      " |    |-- element: boolean (containsNull = true)\n",
      " |-- extinct: boolean (nullable = true)\n",
      " |-- iconic_taxon_name: array (nullable = true)\n",
      " |    |-- element: string (containsNull = true)\n",
      " |-- min_species_ancestry: array (nullable = true)\n",
      " |    |-- element: string (containsNull = true)\n",
      " |-- observations_count: long (nullable = true)\n",
      " |-- rank: array (nullable = true)\n",
      " |    |-- element: string (containsNull = true)\n",
      " |-- extinct: boolean (nullable = true)\n",
      " |-- threatened: boolean (nullable = true)\n",
      " |-- activity_count: long (nullable = true)\n",
      " |-- identifications_count: long (nullable = true)\n",
      "\n"
     ]
    }
   ],
   "source": [
    "t.printSchema()"
   ]
  },
  {
   "cell_type": "code",
   "execution_count": 88,
   "metadata": {},
   "outputs": [
    {
     "data": {
      "text/plain": [
       "1884"
      ]
     },
     "execution_count": 88,
     "metadata": {},
     "output_type": "execute_result"
    }
   ],
   "source": [
    "t.select('species_guess').distinct().count()"
   ]
  },
  {
   "cell_type": "code",
   "execution_count": 89,
   "metadata": {},
   "outputs": [
    {
     "name": "stdout",
     "output_type": "stream",
     "text": [
      "+--------------------+\n",
      "|       species_guess|\n",
      "+--------------------+\n",
      "| [Tennessee Warbler]|\n",
      "|  [Great Horned Owl]|\n",
      "|[Shamrock Orbweaver]|\n",
      "|[Yellow Sand Verb...|\n",
      "|     [Poecilochirus]|\n",
      "+--------------------+\n",
      "only showing top 5 rows\n",
      "\n"
     ]
    }
   ],
   "source": [
    "t.select('species_guess').distinct().show(5)"
   ]
  },
  {
   "cell_type": "code",
   "execution_count": 90,
   "metadata": {},
   "outputs": [
    {
     "data": {
      "text/plain": [
       "(4038, 6197)"
      ]
     },
     "execution_count": 90,
     "metadata": {},
     "output_type": "execute_result"
    }
   ],
   "source": [
    "t.filter(t.identifications_most_agree == True).count(),t.count()"
   ]
  },
  {
   "cell_type": "code",
   "execution_count": 91,
   "metadata": {},
   "outputs": [
    {
     "name": "stdout",
     "output_type": "stream",
     "text": [
      "+----------------+-----+\n",
      "|observed_on_year|count|\n",
      "+----------------+-----+\n",
      "|               0|   25|\n",
      "|            2000|    1|\n",
      "|            2002|    2|\n",
      "|            2003|    3|\n",
      "|            2004|    1|\n",
      "|            2005|    4|\n",
      "|            2006|    4|\n",
      "|            2007|    3|\n",
      "|            2008|    9|\n",
      "|            2009|   14|\n",
      "|            2010|   33|\n",
      "|            2011|  114|\n",
      "|            2012|   26|\n",
      "|            2013|    8|\n",
      "|            2014|   29|\n",
      "|            2015|  303|\n",
      "|            2016|   97|\n",
      "|            2017|  914|\n",
      "|            2018| 4607|\n",
      "+----------------+-----+\n",
      "\n"
     ]
    }
   ],
   "source": [
    "t.groupby('observed_on_year').count().show()"
   ]
  },
  {
   "cell_type": "code",
   "execution_count": 30,
   "metadata": {},
   "outputs": [],
   "source": [
    "taxa = t.groupby('iconic_taxon_name').count().toPandas() "
   ]
  },
  {
   "cell_type": "code",
   "execution_count": 35,
   "metadata": {},
   "outputs": [],
   "source": [
    "import plotly as py\n",
    "import plotly.graph_objs as go\n",
    "plotly.tools.set_credentials_file(username='tjogesh', api_key='jQCndI6d5M1oYF4mXX7i')"
   ]
  },
  {
   "cell_type": "code",
   "execution_count": 54,
   "metadata": {},
   "outputs": [
    {
     "data": {
      "text/html": [
       "<iframe id=\"igraph\" scrolling=\"no\" style=\"border:none;\" seamless=\"seamless\" src=\"https://plot.ly/~tjogesh/10.embed\" height=\"525px\" width=\"100%\"></iframe>"
      ],
      "text/plain": [
       "<plotly.tools.PlotlyDisplay object>"
      ]
     },
     "execution_count": 54,
     "metadata": {},
     "output_type": "execute_result"
    }
   ],
   "source": [
    "labels = list(taxa.iconic_taxon_name.map(lambda x: x[0]))\n",
    "values = list(taxa['count'])\n",
    "\n",
    "fig = {\n",
    "    'data': [{'labels': labels,\n",
    "              'values': values,\n",
    "              'type': 'pie'}],\n",
    "    'layout': {'title': 'Major organismal groups observed on iNaturalist'}\n",
    "     }\n",
    "\n",
    "py.plotly.iplot(fig, filename='taxa_on_iNat')\n"
   ]
  },
  {
   "cell_type": "code",
   "execution_count": 92,
   "metadata": {},
   "outputs": [],
   "source": [
    "species= t.groupby('species_guess').count().toPandas() "
   ]
  },
  {
   "cell_type": "code",
   "execution_count": 93,
   "metadata": {},
   "outputs": [],
   "source": [
    "species['name'] = species.species_guess.map(lambda x: x[0])\n",
    "species.dropna(inplace=True)"
   ]
  },
  {
   "cell_type": "code",
   "execution_count": 94,
   "metadata": {},
   "outputs": [
    {
     "data": {
      "text/html": [
       "<div>\n",
       "<table border=\"1\" class=\"dataframe\">\n",
       "  <thead>\n",
       "    <tr style=\"text-align: right;\">\n",
       "      <th></th>\n",
       "      <th>species_guess</th>\n",
       "      <th>count</th>\n",
       "      <th>name</th>\n",
       "    </tr>\n",
       "  </thead>\n",
       "  <tbody>\n",
       "    <tr>\n",
       "      <th>227</th>\n",
       "      <td>[gilled mushrooms]</td>\n",
       "      <td>37</td>\n",
       "      <td>gilled mushrooms</td>\n",
       "    </tr>\n",
       "    <tr>\n",
       "      <th>490</th>\n",
       "      <td>[American Coot]</td>\n",
       "      <td>36</td>\n",
       "      <td>American Coot</td>\n",
       "    </tr>\n",
       "    <tr>\n",
       "      <th>1449</th>\n",
       "      <td>[creosote bush]</td>\n",
       "      <td>31</td>\n",
       "      <td>creosote bush</td>\n",
       "    </tr>\n",
       "    <tr>\n",
       "      <th>837</th>\n",
       "      <td>[Red-tailed Hawk]</td>\n",
       "      <td>27</td>\n",
       "      <td>Red-tailed Hawk</td>\n",
       "    </tr>\n",
       "    <tr>\n",
       "      <th>1144</th>\n",
       "      <td>[Mallard]</td>\n",
       "      <td>27</td>\n",
       "      <td>Mallard</td>\n",
       "    </tr>\n",
       "    <tr>\n",
       "      <th>1202</th>\n",
       "      <td>[White-crowned Sparrow]</td>\n",
       "      <td>25</td>\n",
       "      <td>White-crowned Sparrow</td>\n",
       "    </tr>\n",
       "    <tr>\n",
       "      <th>1033</th>\n",
       "      <td>[Golden-crowned Sparrow]</td>\n",
       "      <td>24</td>\n",
       "      <td>Golden-crowned Sparrow</td>\n",
       "    </tr>\n",
       "    <tr>\n",
       "      <th>1720</th>\n",
       "      <td>[Black Phoebe]</td>\n",
       "      <td>23</td>\n",
       "      <td>Black Phoebe</td>\n",
       "    </tr>\n",
       "    <tr>\n",
       "      <th>9</th>\n",
       "      <td>[Great Egret]</td>\n",
       "      <td>23</td>\n",
       "      <td>Great Egret</td>\n",
       "    </tr>\n",
       "    <tr>\n",
       "      <th>390</th>\n",
       "      <td>[Great Blue Heron]</td>\n",
       "      <td>23</td>\n",
       "      <td>Great Blue Heron</td>\n",
       "    </tr>\n",
       "  </tbody>\n",
       "</table>\n",
       "</div>"
      ],
      "text/plain": [
       "                 species_guess  count                    name\n",
       "227         [gilled mushrooms]     37        gilled mushrooms\n",
       "490            [American Coot]     36           American Coot\n",
       "1449           [creosote bush]     31           creosote bush\n",
       "837          [Red-tailed Hawk]     27         Red-tailed Hawk\n",
       "1144                 [Mallard]     27                 Mallard\n",
       "1202   [White-crowned Sparrow]     25   White-crowned Sparrow\n",
       "1033  [Golden-crowned Sparrow]     24  Golden-crowned Sparrow\n",
       "1720            [Black Phoebe]     23            Black Phoebe\n",
       "9                [Great Egret]     23             Great Egret\n",
       "390         [Great Blue Heron]     23        Great Blue Heron"
      ]
     },
     "execution_count": 94,
     "metadata": {},
     "output_type": "execute_result"
    }
   ],
   "source": [
    "species.sort_values('count', ascending=False).head(10)"
   ]
  },
  {
   "cell_type": "code",
   "execution_count": 95,
   "metadata": {},
   "outputs": [
    {
     "name": "stdout",
     "output_type": "stream",
     "text": [
      "+--------------------------------------------+----+-----+\n",
      "|iconic_taxon_name_identifications_most_agree|true|false|\n",
      "+--------------------------------------------+----+-----+\n",
      "|                        WrappedArray(Arac...|  55|   46|\n",
      "|                        WrappedArray(Inse...| 195|  173|\n",
      "|                        WrappedArray(Chro...|  19|   55|\n",
      "|                        WrappedArray(Rept...| 100|   25|\n",
      "|                        WrappedArray(Prot...|   1|    7|\n",
      "|                        WrappedArray(Mamm...| 176|   59|\n",
      "|                          WrappedArray(Aves)|1488|  368|\n",
      "|                         WrappedArray(Fungi)| 624|  391|\n",
      "|                        WrappedArray(Anim...|  48|   69|\n",
      "|                        WrappedArray(Moll...| 111|   67|\n",
      "|                          WrappedArray(null)|   1|  153|\n",
      "|                        WrappedArray(Amph...| 143|   34|\n",
      "|                        WrappedArray(Acti...|  15|    8|\n",
      "|                        WrappedArray(Plan...|1062|  704|\n",
      "+--------------------------------------------+----+-----+\n",
      "\n"
     ]
    }
   ],
   "source": [
    "taxa_id = t.crosstab('iconic_taxon_name', 'identifications_most_agree').show() "
   ]
  },
  {
   "cell_type": "code",
   "execution_count": 97,
   "metadata": {},
   "outputs": [
    {
     "ename": "AttributeError",
     "evalue": "'NoneType' object has no attribute 'iconic_taxon_name_identifications_most_agree'",
     "output_type": "error",
     "traceback": [
      "\u001b[0;31m---------------------------------------------------------------------------\u001b[0m",
      "\u001b[0;31mAttributeError\u001b[0m                            Traceback (most recent call last)",
      "\u001b[0;32m<ipython-input-97-f847bd1d2976>\u001b[0m in \u001b[0;36m<module>\u001b[0;34m()\u001b[0m\n\u001b[0;32m----> 1\u001b[0;31m \u001b[0mtaxa_id\u001b[0m\u001b[0;34m[\u001b[0m\u001b[0;34m'name'\u001b[0m\u001b[0;34m]\u001b[0m \u001b[0;34m=\u001b[0m \u001b[0mtaxa_id\u001b[0m\u001b[0;34m.\u001b[0m\u001b[0miconic_taxon_name_identifications_most_agree\u001b[0m\u001b[0;34m.\u001b[0m\u001b[0mmap\u001b[0m\u001b[0;34m(\u001b[0m\u001b[0;32mlambda\u001b[0m \u001b[0mx\u001b[0m\u001b[0;34m:\u001b[0m \u001b[0mx\u001b[0m\u001b[0;34m[\u001b[0m\u001b[0;36m0\u001b[0m\u001b[0;34m]\u001b[0m\u001b[0;34m)\u001b[0m\u001b[0;34m\u001b[0m\u001b[0m\n\u001b[0m",
      "\u001b[0;31mAttributeError\u001b[0m: 'NoneType' object has no attribute 'iconic_taxon_name_identifications_most_agree'"
     ]
    }
   ],
   "source": [
    "taxa_id['name'] = taxa_id.iconic_taxon_name_identifications_most_agree.map(lambda x: x[0])"
   ]
  },
  {
   "cell_type": "code",
   "execution_count": 54,
   "metadata": {},
   "outputs": [
    {
     "data": {
      "text/html": [
       "<iframe id=\"igraph\" scrolling=\"no\" style=\"border:none;\" seamless=\"seamless\" src=\"https://plot.ly/~tjogesh/10.embed\" height=\"525px\" width=\"100%\"></iframe>"
      ],
      "text/plain": [
       "<plotly.tools.PlotlyDisplay object>"
      ]
     },
     "execution_count": 54,
     "metadata": {},
     "output_type": "execute_result"
    }
   ],
   "source": [
    "labels = list(taxa.iconic_taxon_name.map(lambda x: x[0]))\n",
    "values = list(taxa['count'])\n",
    "\n",
    "fig = {\n",
    "    'data': [{'labels': labels,\n",
    "              'values': values,\n",
    "              'type': 'pie'}],\n",
    "    'layout': {'title': 'Major organismal groups observed on iNaturalist'}\n",
    "     }\n",
    "\n",
    "py.plotly.iplot(fig, filename='taxa_on_iNat')\n"
   ]
  },
  {
   "cell_type": "code",
   "execution_count": 78,
   "metadata": {},
   "outputs": [
    {
     "name": "stdout",
     "output_type": "stream",
     "text": [
      "+----------------------------------+----+-----+\n",
      "|captive_identifications_most_agree|true|false|\n",
      "+----------------------------------+----+-----+\n",
      "|                             false| 915|  603|\n",
      "+----------------------------------+----+-----+\n",
      "\n"
     ]
    }
   ],
   "source": [
    "t.crosstab('captive', 'identifications_most_agree').show() "
   ]
  },
  {
   "cell_type": "code",
   "execution_count": 79,
   "metadata": {},
   "outputs": [
    {
     "name": "stdout",
     "output_type": "stream",
     "text": [
      "+---------------------------------------------+----+-----+\n",
      "|cached_votes_total_identifications_most_agree|true|false|\n",
      "+---------------------------------------------+----+-----+\n",
      "|                                            1|   4|    1|\n",
      "|                                            0| 911|  602|\n",
      "+---------------------------------------------+----+-----+\n",
      "\n"
     ]
    }
   ],
   "source": [
    "t.crosstab('cached_votes_total', 'identifications_most_agree').show() "
   ]
  },
  {
   "cell_type": "code",
   "execution_count": 81,
   "metadata": {},
   "outputs": [
    {
     "name": "stdout",
     "output_type": "stream",
     "text": [
      "+-------------------------------------------+----+-----+\n",
      "|observed_on_hour_identifications_most_agree|true|false|\n",
      "+-------------------------------------------+----+-----+\n",
      "|                                          0|  35|   46|\n",
      "|                                          5|   3|    1|\n",
      "|                                         10|  80|   56|\n",
      "|                                         14|  99|   87|\n",
      "|                                         20|   9|    4|\n",
      "|                                          1|   2|    0|\n",
      "|                                          6|   2|    3|\n",
      "|                                         21|  14|    5|\n",
      "|                                          9|  70|   40|\n",
      "|                                         13|  67|   76|\n",
      "|                                          2|   7|   77|\n",
      "|                                         17|  27|   12|\n",
      "|                                         22|  10|    4|\n",
      "|                                         12| 112|   30|\n",
      "|                                          7|  16|    6|\n",
      "|                                          3|   3|    1|\n",
      "|                                         18|  12|    9|\n",
      "|                                         16|  53|   34|\n",
      "|                                         11| 129|   34|\n",
      "|                                         23|   8|    8|\n",
      "+-------------------------------------------+----+-----+\n",
      "only showing top 20 rows\n",
      "\n"
     ]
    }
   ],
   "source": [
    "t.crosstab('observed_on_hour', 'identifications_most_agree').show() "
   ]
  },
  {
   "cell_type": "code",
   "execution_count": 19,
   "metadata": {},
   "outputs": [],
   "source": [
    "#df = t.toPandas() "
   ]
  },
  {
   "cell_type": "code",
   "execution_count": null,
   "metadata": {},
   "outputs": [],
   "source": [
    "df.to_csv(\"test.csv\")"
   ]
  },
  {
   "cell_type": "code",
   "execution_count": null,
   "metadata": {},
   "outputs": [],
   "source": []
  }
 ],
 "metadata": {
  "kernelspec": {
   "display_name": "Python 2",
   "language": "python",
   "name": "python2"
  },
  "language_info": {
   "codemirror_mode": {
    "name": "ipython",
    "version": 2
   },
   "file_extension": ".py",
   "mimetype": "text/x-python",
   "name": "python",
   "nbconvert_exporter": "python",
   "pygments_lexer": "ipython2",
   "version": "2.7.13"
  }
 },
 "nbformat": 4,
 "nbformat_minor": 2
}
